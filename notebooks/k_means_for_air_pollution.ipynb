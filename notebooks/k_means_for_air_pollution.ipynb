{
  "cells": [
    {
      "cell_type": "markdown",
      "metadata": {
        "id": "c_Lz52SrsL_R"
      },
      "source": [
        "# 📘 K-means Clustering of Air Pollution Time Series (R Tutorial)\n",
        "\n",
        "### 🔍 Objective\n",
        "Group spatial grid points based on their air pollution patterns over time using k-means clustering."
      ]
    },
    {
      "cell_type": "markdown",
      "metadata": {
        "id": "tTVtZjgasWh8"
      },
      "source": [
        "## 1. 📦 Load Required Libraries"
      ]
    },
    {
      "cell_type": "code",
      "execution_count": null,
      "metadata": {
        "id": "lXeyo3pHskvB"
      },
      "outputs": [],
      "source": [
        "# Install if needed\n",
        "install.packages(\"tidyverse\")"
      ]
    },
    {
      "cell_type": "code",
      "execution_count": null,
      "metadata": {
        "id": "onzmwt9rtH8J"
      },
      "outputs": [],
      "source": [
        "install.packages(\"reshape2\")"
      ]
    },
    {
      "cell_type": "code",
      "execution_count": null,
      "metadata": {
        "id": "G-WFfIJWtH_R"
      },
      "outputs": [],
      "source": [
        "install.packages(\"ggplot2\")"
      ]
    },
    {
      "cell_type": "code",
      "execution_count": null,
      "metadata": {
        "id": "oZYq1D7BtICW"
      },
      "outputs": [],
      "source": [
        "install.packages(\"cluster\")"
      ]
    },
    {
      "cell_type": "code",
      "execution_count": null,
      "metadata": {
        "id": "Bf3qyKgDtIFw"
      },
      "outputs": [],
      "source": [
        "install.packages(\"factoextra\")"
      ]
    },
    {
      "cell_type": "code",
      "source": [
        "install.packages(\"lubridate\")"
      ],
      "metadata": {
        "id": "Tu-fAPP03SzZ"
      },
      "execution_count": null,
      "outputs": []
    },
    {
      "cell_type": "code",
      "source": [
        "install.packages(\"sf\")"
      ],
      "metadata": {
        "id": "183OOPutT-83"
      },
      "execution_count": null,
      "outputs": []
    },
    {
      "cell_type": "code",
      "source": [
        "# Load necessary libraries\n",
        "library(tidyverse)   # For data manipulation and visualization\n",
        "library(reshape2)    # For reshaping data from long to wide format\n",
        "library(ggplot2)     # For advanced plotting\n",
        "library(cluster)     # For clustering algorithms\n",
        "library(factoextra)  # For visualizing clustering diagnostics\n",
        "library(lubridate)   # For date parsing and handling\n",
        "library(sf)        # For reading shapefiles\n",
        "#library(dplyr)"
      ],
      "metadata": {
        "id": "0iPVlZgu3PXE"
      },
      "execution_count": null,
      "outputs": []
    },
    {
      "cell_type": "markdown",
      "metadata": {
        "id": "N-LvDzCdt5sY"
      },
      "source": [
        "## 📂 2. Read athe dataset\n",
        "\n",
        "Read the file from google drive\n",
        "\n",
        "https://drive.google.com/file/d/FILE_ID/view?usp=sharing\n",
        "\n",
        "You extract the FILE_ID part (the long string between /d/ and /view)."
      ]
    },
    {
      "cell_type": "code",
      "execution_count": null,
      "metadata": {
        "id": "pVfQzgVNsPE7"
      },
      "outputs": [],
      "source": [
        "FILE_ID = \"FILE_ID\"\n",
        "url <- paste0(\"https://drive.google.com/uc?export=download&id=\", FILE_ID)\n",
        "\n",
        "# Read the file from google drives\n",
        "data <- read.csv(url)"
      ]
    },
    {
      "cell_type": "code",
      "execution_count": null,
      "metadata": {
        "id": "xr1VVNiOsPLL"
      },
      "outputs": [],
      "source": [
        "dim(data)\n",
        "data"
      ]
    },
    {
      "cell_type": "code",
      "source": [
        "colnames(data)"
      ],
      "metadata": {
        "id": "Y-wp8KNJ2vMo"
      },
      "execution_count": null,
      "outputs": []
    },
    {
      "cell_type": "code",
      "source": [
        "# Check for missing values\n",
        "sum(is.na(data))          # returns 0 if there are no missing values"
      ],
      "metadata": {
        "id": "conZcZZ42wG1"
      },
      "execution_count": null,
      "outputs": []
    },
    {
      "cell_type": "markdown",
      "source": [
        "## 3. 🧹 Preprocess Data"
      ],
      "metadata": {
        "id": "cvIGEqlbQTnD"
      }
    },
    {
      "cell_type": "markdown",
      "source": [
        "We want to reshape the data so that each spatial grid point (lat/lon pair) is a row, and the time series of pollution is a feature vector."
      ],
      "metadata": {
        "id": "HLvj8txT3lOf"
      }
    },
    {
      "cell_type": "code",
      "source": [
        "# Example of PM2.5\n",
        "pollution_wide <- data %>%\n",
        "  select(latitude, longitude, valid_time, pm2p5) %>%\n",
        "  pivot_wider(names_from = valid_time, values_from = pm2p5)\n",
        "\n",
        "# Remove columns (time steps) with NA values (if any time points are missing)\n",
        "pollution_wide <- pollution_wide[, colSums(is.na(pollution_wide)) == 0]"
      ],
      "metadata": {
        "id": "10BfvQuV2wJc"
      },
      "execution_count": null,
      "outputs": []
    },
    {
      "cell_type": "code",
      "source": [
        "dim(pollution_wide)\n",
        "head(pollution_wide)"
      ],
      "metadata": {
        "id": "Tm0O9_IGAJ1J"
      },
      "execution_count": null,
      "outputs": []
    },
    {
      "cell_type": "code",
      "source": [],
      "metadata": {
        "id": "tT4lpGX1AG09"
      },
      "execution_count": null,
      "outputs": []
    },
    {
      "cell_type": "markdown",
      "source": [
        "## 4. 📐 Scale the Time Series"
      ],
      "metadata": {
        "id": "OOHszNd9QZWO"
      }
    },
    {
      "cell_type": "markdown",
      "source": [
        "Normalize each time series (per grid point) to prevent K-means from grouping based on absolute levels instead of pattern"
      ],
      "metadata": {
        "id": "DxlnEoo15Gb5"
      }
    },
    {
      "cell_type": "code",
      "source": [
        "# Extract time series only\n",
        "pollution_ts <- pollution_wide %>% select(-latitude, -longitude)\n",
        "\n",
        "# Standardize each time series\n",
        "pollution_scaled <- scale(pollution_ts)"
      ],
      "metadata": {
        "id": "iVTLu54H2wR5"
      },
      "execution_count": null,
      "outputs": []
    },
    {
      "cell_type": "code",
      "source": [
        "dim(pollution_scaled)\n",
        "head(pollution_scaled)"
      ],
      "metadata": {
        "id": "BeXf_1cD2wUu"
      },
      "execution_count": null,
      "outputs": []
    },
    {
      "cell_type": "markdown",
      "source": [
        "## 5. 🔢 Optional: Determine Optimal Number of Clusters"
      ],
      "metadata": {
        "id": "D4-LKIDA6gpf"
      }
    },
    {
      "cell_type": "markdown",
      "source": [
        "### Use Elbow Method to Choose k\n",
        "**Elbow Method** minimizes the within-cluster sum of squares (WCSS) — this measures how close the data points in each cluster are to the cluster center (centroid)."
      ],
      "metadata": {
        "id": "ilEjl6YxNHbp"
      }
    },
    {
      "cell_type": "code",
      "source": [
        "fviz_nbclust(pollution_scaled, kmeans, method = \"wss\", k.max = 20) +\n",
        "  labs(title = \"Elbow Method to Determine Optimal k\")\n"
      ],
      "metadata": {
        "id": "6IR71KtWQ2-O"
      },
      "execution_count": null,
      "outputs": []
    },
    {
      "cell_type": "markdown",
      "source": [
        "### Use Silhouette Method to Choose k\n",
        "\n",
        "**Silhouette Method** measure how well-separated the clusters are — how similar a point is to its own cluster vs. others."
      ],
      "metadata": {
        "id": "yiqHPXTYNBne"
      }
    },
    {
      "cell_type": "code",
      "source": [
        "# Silhouette Method\n",
        "fviz_nbclust(pollution_scaled, kmeans, method = \"silhouette\", k.max = 20)\n"
      ],
      "metadata": {
        "id": "dTsY8LRLLg2a"
      },
      "execution_count": null,
      "outputs": []
    },
    {
      "cell_type": "markdown",
      "source": [
        "## 6. 📌 Run K-means Clustering"
      ],
      "metadata": {
        "id": "ri7iS28aO5CV"
      }
    },
    {
      "cell_type": "code",
      "source": [
        "# Run k-means\n",
        "set.seed(123)\n",
        "\n",
        "k <- 13  # or choose based on the elbow plot\n",
        "kmeans_result <- kmeans(pollution_scaled, centers = k, nstart = 25)"
      ],
      "metadata": {
        "id": "k4MWaMky2wXm"
      },
      "execution_count": null,
      "outputs": []
    },
    {
      "cell_type": "markdown",
      "source": [
        "\"*nstart*\" controls how many times the algorithm runs with different random initial centroids,"
      ],
      "metadata": {
        "id": "dTxkpUPTPR9b"
      }
    },
    {
      "cell_type": "markdown",
      "source": [
        "## 7. 📈 View Clustering Results"
      ],
      "metadata": {
        "id": "3M-_iZK0Sibu"
      }
    },
    {
      "cell_type": "code",
      "source": [
        "kmeans_result"
      ],
      "metadata": {
        "id": "bzIIPF83BbNQ"
      },
      "execution_count": null,
      "outputs": []
    },
    {
      "cell_type": "code",
      "source": [
        "kmeans_result$cluster"
      ],
      "metadata": {
        "id": "tgSmKPQdCP2Y"
      },
      "execution_count": null,
      "outputs": []
    },
    {
      "cell_type": "code",
      "source": [
        "# Add cluster labels\n",
        "pollution_wide$cluster <- as.factor(kmeans_result$cluster)"
      ],
      "metadata": {
        "id": "yB35AmbZRrgn"
      },
      "execution_count": null,
      "outputs": []
    },
    {
      "cell_type": "code",
      "source": [
        "dim(pollution_wide)\n",
        "pollution_wide"
      ],
      "metadata": {
        "id": "hU25iq2T2wc4"
      },
      "execution_count": null,
      "outputs": []
    },
    {
      "cell_type": "markdown",
      "source": [
        "## 8. 🗺️ Visualize Clusters on a Map"
      ],
      "metadata": {
        "id": "OMUx3m44SDj6"
      }
    },
    {
      "cell_type": "code",
      "source": [
        "# Read shapefile\n",
        "shapefile_path <- \"/content/World_Countries__Generalized_.shp\"\n",
        "shape_morocco <- st_read(shapefile_path)"
      ],
      "metadata": {
        "id": "0nXmrigpT7NM"
      },
      "execution_count": null,
      "outputs": []
    },
    {
      "cell_type": "code",
      "source": [
        "# If your pollution data and shapefile are in different coordinate reference systems (CRS), make sure to match them\n",
        "\n",
        "st_crs(shape_morocco)"
      ],
      "metadata": {
        "id": "9oIBJhV0WSL5"
      },
      "execution_count": null,
      "outputs": []
    },
    {
      "cell_type": "code",
      "source": [
        "# If needed:\n",
        "shape_morocco <- st_transform(shape_morocco, crs = 4326)  # WGS84"
      ],
      "metadata": {
        "id": "GMiGbiBQWf43"
      },
      "execution_count": null,
      "outputs": []
    },
    {
      "cell_type": "code",
      "source": [
        "# Compute bounding box from data\n",
        "lon_range <- range(pollution_wide$longitude, na.rm = TRUE)\n",
        "lat_range <- range(pollution_wide$latitude, na.rm = TRUE)\n",
        "\n",
        "\n",
        "# Plot your clustered pollution map with shapefile overlay\n",
        "ggplot() +\n",
        "  # Pollution clusters (raster-like tile plot)\n",
        "  geom_tile(data = pollution_wide, aes(x = longitude, y = latitude, fill = factor(cluster)), color = \"white\") +\n",
        "\n",
        "  # Overlay shapefile boundaries\n",
        "  geom_sf(data = shape_morocco, fill = NA, color = \"black\", size = 0.5) +\n",
        "\n",
        "  coord_sf(xlim = lon_range, ylim = lat_range, expand = FALSE) +\n",
        "  labs(title = \"Clusters of Air Pollution Patterns\", fill = \"Cluster\") +\n",
        "  theme_minimal()\n"
      ],
      "metadata": {
        "id": "b9uXWuv2SZ63"
      },
      "execution_count": null,
      "outputs": []
    },
    {
      "cell_type": "code",
      "source": [],
      "metadata": {
        "id": "k92GBjrYSZ9I"
      },
      "execution_count": null,
      "outputs": []
    },
    {
      "cell_type": "code",
      "source": [
        "# Compute the Average PM10 per Location\n",
        "\n",
        "avg_pm10 <- data %>%\n",
        "  group_by(longitude, latitude) %>%\n",
        "  summarise(PM10_avg = mean(pm2p5, na.rm = TRUE)) %>%\n",
        "  ungroup()\n",
        "\n",
        "\n",
        "# Plot the Average PM10 on a Map\n",
        "\n",
        "ggplot() +\n",
        "  geom_tile(data = avg_pm10, aes(x = longitude, y = latitude, fill = PM10_avg)) +\n",
        "  geom_sf(data = shape_morocco, fill = NA, color = \"black\", size = 0.3) +\n",
        "  scale_fill_gradient(\n",
        "    name = \"Avg PM2.5\",\n",
        "    low = \"#FFE5E5\",    # light red for low values\n",
        "    high = \"#8B0000\"    # dark red (firebrick) for high values\n",
        "  ) +\n",
        "  coord_sf(xlim = lon_range, ylim = lat_range, expand = FALSE) +\n",
        "  labs(\n",
        "    title = \"Average PM2.5 Concentration\",\n",
        "    x = \"Longitude\",\n",
        "    y = \"Latitude\"\n",
        "  ) +\n",
        "  theme_minimal()\n"
      ],
      "metadata": {
        "id": "cxk8dlnESaDK"
      },
      "execution_count": null,
      "outputs": []
    },
    {
      "cell_type": "code",
      "source": [],
      "metadata": {
        "id": "HgOM8kW4cIlp"
      },
      "execution_count": null,
      "outputs": []
    },
    {
      "cell_type": "code",
      "source": [],
      "metadata": {
        "id": "3w0PS5dScIoQ"
      },
      "execution_count": null,
      "outputs": []
    },
    {
      "cell_type": "code",
      "source": [],
      "metadata": {
        "id": "uwlwhO0FcIqu"
      },
      "execution_count": null,
      "outputs": []
    },
    {
      "cell_type": "code",
      "source": [],
      "metadata": {
        "id": "O4oG6By_cIuF"
      },
      "execution_count": null,
      "outputs": []
    }
  ],
  "metadata": {
    "colab": {
      "provenance": []
    },
    "kernelspec": {
      "display_name": "R",
      "name": "ir"
    },
    "language_info": {
      "name": "R"
    }
  },
  "nbformat": 4,
  "nbformat_minor": 0
}