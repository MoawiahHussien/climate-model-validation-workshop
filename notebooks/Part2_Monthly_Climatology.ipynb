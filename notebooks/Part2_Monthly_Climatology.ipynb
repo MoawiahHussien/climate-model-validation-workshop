{
  "nbformat": 4,
  "nbformat_minor": 0,
  "metadata": {
    "colab": {
      "provenance": [],
      "toc_visible": true
    },
    "kernelspec": {
      "name": "python3",
      "display_name": "Python 3"
    },
    "language_info": {
      "name": "python"
    }
  },
  "cells": [
    {
      "cell_type": "markdown",
      "metadata": {
        "id": "header"
      },
      "source": [
        "# 📊 Part 2: Monthly Climatology Calculation\n",
        "\n",
        "## Climate Model Validation Workshop\n",
        "**Converting Daily Data to Monthly Climatology**  \n",
        "**Study Area:** AMMAN ZARQA Basin, Jordan  \n",
        "**Models:** 6 RICCAR Climate Models  \n",
        "**Period:** 1990-2014\n",
        "\n",
        "---\n",
        "\n",
        "## 📚 Learning Objectives\n",
        "By the end of this notebook, you will:\n",
        "- ✅ Convert daily temperature data to monthly climatology\n",
        "- ✅ Understand seasonal temperature patterns\n",
        "- ✅ Compare climate models' seasonal cycles\n",
        "- ✅ Create publication-quality climatology visualizations\n",
        "- ✅ Prepare data for model validation\n",
        "\n",
        "---"
      ]
    },
    {
      "cell_type": "markdown",
      "metadata": {
        "id": "setup"
      },
      "source": [
        "## ⚙️ Setup: Load Libraries and Check Data"
      ]
    },
    {
      "cell_type": "code",
      "execution_count": null,
      "metadata": {
        "id": "imports"
      },
      "outputs": [],
      "source": [
        "import pandas as pd\n",
        "import numpy as np\n",
        "import matplotlib.pyplot as plt\n",
        "import os\n",
        "import glob\n",
        "\n",
        "print(\"📚 Libraries loaded successfully!\")\n",
        "\n",
        "# Check if Part 1 data exists\n",
        "part1_path = \"workshop_output/Part1_Station_Extraction\"\n",
        "if os.path.exists(part1_path):\n",
        "    files_count = len(glob.glob(os.path.join(part1_path, \"*.csv\")))\n",
        "    print(f\"✅ Found {files_count} CSV files from Part 1\")\n",
        "    print(f\"📁 Data location: {part1_path}\")\n",
        "else:\n",
        "    print(\"❌ Part 1 data not found. Please run Part 1 first!\")"
      ]
    },
    {
      "cell_type": "markdown",
      "metadata": {
        "id": "data_check"
      },
      "source": [
        "## 📂 Load Part 1 Results and Prepare for Processing"
      ]
    },
    {
      "cell_type": "code",
      "execution_count": null,
      "metadata": {
        "id": "load_data"
      },
      "outputs": [],
      "source": [
        "# Setup paths and station info\n",
        "INPUT_PATH = \"workshop_output/Part1_Station_Extraction\"\n",
        "OUTPUT_PATH = \"workshop_output/Part2_Monthly_Climatology\"\n",
        "\n",
        "# Create output directory\n",
        "os.makedirs(OUTPUT_PATH, exist_ok=True)\n",
        "\n",
        "# Station information\n",
        "stations = {\n",
        "    'AL0019': 'Amman Airport',\n",
        "    'AL0035': 'Zarqa Station', \n",
        "    'AL0059': 'Russeifa Station'\n",
        "}\n",
        "\n",
        "print(f\"🎯 PART 2: MONTHLY CLIMATOLOGY CALCULATION\")\n",
        "print(f\"📁 Input: {INPUT_PATH}\")\n",
        "print(f\"📁 Output: {OUTPUT_PATH}\")\n",
        "print(f\"📍 Stations: {list(stations.keys())}\")"
      ]
    },
    {
      "cell_type": "markdown",
      "metadata": {
        "id": "climatology_calc"
      },
      "source": [
        "## 📊 Calculate Monthly Climatology from Daily Data"
      ]
    },
    {
      "cell_type": "code",
      "execution_count": null,
      "metadata": {
        "id": "calculate_climatology"
      },
      "outputs": [],
      "source": [
        "def calculate_monthly_climatology():\n",
        "    \"\"\"Calculate monthly climatology from daily temperature files\"\"\"\n",
        "    \n",
        "    print(f\"📊 CALCULATING MONTHLY CLIMATOLOGY\")\n",
        "    print(\"-\" * 35)\n",
        "    \n",
        "    # Find all daily temperature files\n",
        "    temp_files = glob.glob(os.path.join(INPUT_PATH, \"*_daily_temps.csv\"))\n",
        "    \n",
        "    if not temp_files:\n",
        "        print(\"❌ No daily temperature files found!\")\n",
        "        return None\n",
        "    \n",
        "    print(f\"📁 Found {len(temp_files)} daily temperature files\")\n",
        "    \n",
        "    # Storage for climatology data\n",
        "    climatology_data = []\n",
        "    \n",
        "    # Process each file\n",
        "    for file_path in temp_files:\n",
        "        filename = os.path.basename(file_path)\n",
        "        model_name = filename.split('_')[0]\n",
        "        station_id = filename.split('_')[1]\n",
        "        \n",
        "        print(f\"  🔄 Processing {model_name} - {station_id}\")\n",
        "        \n",
        "        # Read daily data\n",
        "        df = pd.read_csv(file_path)\n",
        "        df['Date'] = pd.to_datetime(df['Date'])\n",
        "        df['Month'] = df['Date'].dt.month\n",
        "        \n",
        "        # Calculate monthly climatology (mean for each month across all years)\n",
        "        monthly_clim = df.groupby('Month')['Temperature_C'].agg([\n",
        "            ('Mean_Temp', 'mean'),\n",
        "            ('Min_Temp', 'min'),\n",
        "            ('Max_Temp', 'max'),\n",
        "            ('Std_Temp', 'std')\n",
        "        ]).round(2)\n",
        "        \n",
        "        # Add month names\n",
        "        month_names = ['Jan', 'Feb', 'Mar', 'Apr', 'May', 'Jun',\n",
        "                      'Jul', 'Aug', 'Sep', 'Oct', 'Nov', 'Dec']\n",
        "        monthly_clim['Month_Name'] = month_names\n",
        "        \n",
        "        # Add identification columns\n",
        "        monthly_clim['Model'] = model_name\n",
        "        monthly_clim['Station'] = station_id\n",
        "        monthly_clim['Station_Name'] = stations[station_id]\n",
        "        monthly_clim = monthly_clim.reset_index()\n",
        "        \n",
        "        climatology_data.append(monthly_clim)\n",
        "        \n",
        "        print(f\"    ✅ Calculated climatology for {len(monthly_clim)} months\")\n",
        "    \n",
        "    # Combine all climatology data\n",
        "    all_climatology = pd.concat(climatology_data, ignore_index=True)\n",
        "    \n",
        "    print(f\"\\n✅ Monthly climatology calculated for {len(climatology_data)} model-station combinations\")\n",
        "    \n",
        "    return all_climatology\n",
        "\n",
        "# Execute climatology calculation\n",
        "climatology_df = calculate_monthly_climatology()\n",
        "\n",
        "if climatology_df is not None:\n",
        "    print(f\"\\n📊 Climatology Summary:\")\n",
        "    print(f\"  Total records: {len(climatology_df)}\")\n",
        "    print(f\"  Models: {climatology_df['Model'].nunique()}\")\n",
        "    print(f\"  Stations: {climatology_df['Station'].nunique()}\")\n",
        "    print(f\"  Temperature range: {climatology_df['Mean_Temp'].min():.1f}°C to {climatology_df['Mean_Temp'].max():.1f}°C\")"
      ]
    },
    {
      "cell_type": "markdown",
      "metadata": {
        "id": "save_results"
      },
      "source": [
        "## 💾 Save Climatology Results"
      ]
    },
    {
      "cell_type": "code",
      "execution_count": null,
      "metadata": {
        "id": "save_climatology"
      },
      "outputs": [],
      "source": [
        "def save_climatology_results(climatology_df):\n",
        "    \"\"\"Save climatology results to files\"\"\"\n",
        "    \n",
        "    print(f\"💾 SAVING CLIMATOLOGY RESULTS\")\n",
        "    print(\"-\" * 30)\n",
        "    \n",
        "    # Save complete climatology\n",
        "    complete_file = os.path.join(OUTPUT_PATH, \"monthly_climatology_all_models.xlsx\")\n",
        "    climatology_df.to_excel(complete_file, index=False)\n",
        "    print(f\"✅ Complete climatology saved: {os.path.basename(complete_file)}\")\n",
        "    \n",
        "    # Create model-specific files\n",
        "    for model in climatology_df['Model'].unique():\n",
        "        model_data = climatology_df[climatology_df['Model'] == model]\n",
        "        model_file = os.path.join(OUTPUT_PATH, f\"climatology_{model}.csv\")\n",
        "        model_data.to_csv(model_file, index=False)\n",
        "    \n",
        "    print(f\"✅ Individual model files saved: {len(climatology_df['Model'].unique())} files\")\n",
        "    \n",
        "    # Create summary table (wide format)\n",
        "    summary_data = []\n",
        "    for model in climatology_df['Model'].unique():\n",
        "        for station in climatology_df['Station'].unique():\n",
        "            data = climatology_df[(climatology_df['Model'] == model) & \n",
        "                                (climatology_df['Station'] == station)]\n",
        "            \n",
        "            if not data.empty:\n",
        "                row = {'Model': model, 'Station': station, 'Station_Name': stations[station]}\n",
        "                for _, month_data in data.iterrows():\n",
        "                    row[month_data['Month_Name']] = month_data['Mean_Temp']\n",
        "                summary_data.append(row)\n",
        "    \n",
        "    summary_df = pd.DataFrame(summary_data)\n",
        "    summary_file = os.path.join(OUTPUT_PATH, \"climatology_summary_table.xlsx\")\n",
        "    summary_df.to_excel(summary_file, index=False)\n",
        "    print(f\"✅ Summary table saved: {os.path.basename(summary_file)}\")\n",
        "    \n",
        "    return summary_df\n",
        "\n",
        "# Save the results\n",
        "if climatology_df is not None:\n",
        "    summary_table = save_climatology_results(climatology_df)\n",
        "    print(f\"\\n📁 All results saved to: {OUTPUT_PATH}\")"
      ]
    },
    {
      "cell_type": "markdown",
      "metadata": {
        "id": "visualization"
      },
      "source": [
        "## 📈 Create Monthly Climatology Visualization"
      ]
    },
    {
      "cell_type": "code",
      "execution_count": null,
      "metadata": {
        "id": "create_visualization"
      },
      "outputs": [],
      "source": [
        "def create_climatology_visualization(climatology_df):\n",
        "    \"\"\"Create comprehensive climatology visualization\"\"\"\n",
        "    \n",
        "    print(f\"📈 CREATING CLIMATOLOGY VISUALIZATION\")\n",
        "    print(\"-\" * 40)\n",
        "    \n",
        "    # Model colors\n",
        "    model_colors = {\n",
        "        'CMCC': '#1f77b4', 'CNRM': '#ff7f0e', 'EC-Earth3': '#2ca02c',\n",
        "        'IPSL': '#d62728', 'MPI': '#9467bd', 'NorESM2': '#8c564b'\n",
        "    }\n",
        "    \n",
        "    # Create subplots for each station\n",
        "    fig, axes = plt.subplots(1, 3, figsize=(15, 5))\n",
        "    \n",
        "    stations_order = ['AL0019', 'AL0035', 'AL0059']\n",
        "    \n",
        "    for i, station_id in enumerate(stations_order):\n",
        "        ax = axes[i]\n",
        "        \n",
        "        # Plot each model for this station\n",
        "        for model in climatology_df['Model'].unique():\n",
        "            data = climatology_df[(climatology_df['Model'] == model) & \n",
        "                                (climatology_df['Station'] == station_id)]\n",
        "            \n",
        "            if not data.empty:\n",
        "                months = data['Month'].values\n",
        "                temps = data['Mean_Temp'].values\n",
        "                \n",
        "                ax.plot(months, temps, 'o-', color=model_colors[model], \n",
        "                       label=model, linewidth=2, markersize=6, alpha=0.8)\n",
        "        \n",
        "        # Formatting\n",
        "        ax.set_title(f'{station_id}\\n({stations[station_id]})', fontsize=12, fontweight='bold')\n",
        "        ax.set_xlabel('Month', fontsize=10)\n",
        "        ax.set_ylabel('Temperature (°C)', fontsize=10)\n",
        "        ax.set_xticks(range(1, 13))\n",
        "        ax.set_xticklabels(['J', 'F', 'M', 'A', 'M', 'J', 'J', 'A', 'S', 'O', 'N', 'D'])\n",
        "        ax.grid(True, alpha=0.3)\n",
        "        \n",
        "        # Add legend only to the last subplot\n",
        "        if i == 2:\n",
        "            ax.legend(bbox_to_anchor=(1.05, 1), loc='upper left', fontsize=8)\n",
        "    \n",
        "    # Main title\n",
        "    fig.suptitle('Monthly Temperature Climatology by Station\\n1990-2014 Average (All Models)', \n",
        "                 fontsize=14, fontweight='bold', y=0.98)\n",
        "    \n",
        "    plt.tight_layout()\n",
        "    plt.subplots_adjust(top=0.85, right=0.85)\n",
        "    \n",
        "    plt.show()\n",
        "    print(f\"✅ Climatology visualization complete!\")\n",
        "\n",
        "# Create the visualization\n",
        "if climatology_df is not None:\n",
        "    create_climatology_visualization(climatology_df)"
      ]
    },
    {
      "cell_type": "markdown",
      "metadata": {
        "id": "seasonal_analysis"
      },
      "source": [
        "## 🌡️ Calculate Seasonal Temperature Summary"
      ]
    },
    {
      "cell_type": "code",
      "execution_count": null,
      "metadata": {
        "id": "seasonal_summary"
      },
      "outputs": [],
      "source": [
        "def calculate_seasonal_summary(climatology_df):\n",
        "    \"\"\"Calculate seasonal temperature summary\"\"\"\n",
        "    \n",
        "    print(f\"🌡️ CALCULATING SEASONAL SUMMARY\")\n",
        "    print(\"-\" * 30)\n",
        "    \n",
        "    # Define seasons\n",
        "    seasons = {\n",
        "        'Winter': [12, 1, 2],\n",
        "        'Spring': [3, 4, 5],\n",
        "        'Summer': [6, 7, 8],\n",
        "        'Autumn': [9, 10, 11]\n",
        "    }\n",
        "    \n",
        "    seasonal_data = []\n",
        "    \n",
        "    for model in climatology_df['Model'].unique():\n",
        "        for station in climatology_df['Station'].unique():\n",
        "            data = climatology_df[(climatology_df['Model'] == model) & \n",
        "                                (climatology_df['Station'] == station)]\n",
        "            \n",
        "            if not data.empty:\n",
        "                row = {\n",
        "                    'Model': model,\n",
        "                    'Station': station,\n",
        "                    'Station_Name': stations[station]\n",
        "                }\n",
        "                \n",
        "                for season, months in seasons.items():\n",
        "                    season_temps = data[data['Month'].isin(months)]['Mean_Temp']\n",
        "                    row[f'{season}_Temp'] = round(season_temps.mean(), 2)\n",
        "                \n",
        "                # Annual average\n",
        "                row['Annual_Temp'] = round(data['Mean_Temp'].mean(), 2)\n",
        "                \n",
        "                seasonal_data.append(row)\n",
        "    \n",
        "    seasonal_df = pd.DataFrame(seasonal_data)\n",
        "    \n",
        "    # Save seasonal summary\n",
        "    seasonal_file = os.path.join(OUTPUT_PATH, \"seasonal_temperature_summary.xlsx\")\n",
        "    seasonal_df.to_excel(seasonal_file, index=False)\n",
        "    print(f\"✅ Seasonal summary saved: {os.path.basename(seasonal_file)}\")\n",
        "    \n",
        "    # Display summary statistics\n",
        "    print(f\"\\n🌡️ Seasonal Temperature Ranges:\")\n",
        "    for season in ['Winter', 'Spring', 'Summer', 'Autumn']:\n",
        "        col_name = f'{season}_Temp'\n",
        "        min_temp = seasonal_df[col_name].min()\n",
        "        max_temp = seasonal_df[col_name].max()\n",
        "        print(f\"  {season}: {min_temp:.1f}°C to {max_temp:.1f}°C\")\n",
        "    \n",
        "    return seasonal_df\n",
        "\n",
        "# Calculate seasonal summary\n",
        "if climatology_df is not None:\n",
        "    seasonal_summary = calculate_seasonal_summary(climatology_df)"
      ]
    },
    {
      "cell_type": "markdown",
      "metadata": {
        "id": "data_preview"
      },
      "source": [
        "## 👀 Preview Results and Data Quality Check"
      ]
    },
    {
      "cell_type": "code",
      "execution_count": null,
      "metadata": {
        "id": "preview_results"
      },
      "outputs": [],
      "source": [
        "# Display sample climatology data\n",
        "if climatology_df is not None:\n",
        "    print(\"📋 SAMPLE CLIMATOLOGY DATA\")\n",
        "    print(\"=\" * 30)\n",
        "    \n",
        "    # Show first few rows\n",
        "    print(\"\\n🔍 First 10 records:\")\n",
        "    display(climatology_df[['Model', 'Station', 'Month_Name', 'Mean_Temp', 'Min_Temp', 'Max_Temp']].head(10))\n",
        "    \n",
        "    # Show summary by model\n",
        "    print(\"\\n📊 Average Temperature by Model (across all stations and months):\")\n",
        "    model_avg = climatology_df.groupby('Model')['Mean_Temp'].mean().round(2)\n",
        "    for model, temp in model_avg.items():\n",
        "        print(f\"  {model}: {temp:.2f}°C\")\n",
        "    \n",
        "    # Show summary by station\n",
        "    print(\"\\n📍 Average Temperature by Station (across all models and months):\")\n",
        "    station_avg = climatology_df.groupby(['Station', 'Station_Name'])['Mean_Temp'].mean().round(2)\n",
        "    for (station_id, station_name), temp in station_avg.items():\n",
        "        print(f\"  {station_id} ({station_name}): {temp:.2f}°C\")\n",
        "    \n",
        "    # Monthly temperature range\n",
        "    print(f\"\\n🌡️ Monthly Temperature Patterns:\")\n",
        "    monthly_avg = climatology_df.groupby('Month_Name')['Mean_Temp'].agg(['min', 'max', 'mean']).round(1)\n",
        "    month_order = ['Jan', 'Feb', 'Mar', 'Apr', 'May', 'Jun', 'Jul', 'Aug', 'Sep', 'Oct', 'Nov', 'Dec']\n",
        "    monthly_avg = monthly_avg.reindex(month_order)\n",
        "    \n",
        "    for month, row in monthly_avg.iterrows():\n",
        "        print(f\"  {month}: {row['min']:.1f}°C to {row['max']:.1f}°C (avg: {row['mean']:.1f}°C)\")\n",
        "else:\n",
        "    print(\"❌ No climatology data available for preview\")"
      ]
    },
    {
      "cell_type": "markdown",
      "metadata": {
        "id": "summary"
      },
      "source": [
        "## 🎯 Part 2 Summary and Key Findings"
      ]
    },
    {
      "cell_type": "code",
      "execution_count": null,
      "metadata": {
        "id": "final_summary"
      },
      "outputs": [],
      "source": [
        "# Final summary\n",
        "if climatology_df is not None:\n",
        "    print(\"🎯 PART 2 SUMMARY\")\n",
        "    print(\"=\" * 20)\n",
        "    print(f\"✅ Monthly climatology calculated for {len(climatology_df['Model'].unique())} models\")\n",
        "    print(f\"✅ {len(climatology_df['Station'].unique())} stations processed\")\n",
        "    print(f\"✅ 12 months × {len(climatology_df['Model'].unique())} models × {len(climatology_df['Station'].unique())} stations = {len(climatology_df)} records\")\n",
        "    print(f\"📁 Results saved to: {OUTPUT_PATH}\")\n",
        "    \n",
        "    print(f\"\\n📊 Temperature Ranges:\")\n",
        "    print(f\"  Coldest month average: {climatology_df['Mean_Temp'].min():.1f}°C\")\n",
        "    print(f\"  Warmest month average: {climatology_df['Mean_Temp'].max():.1f}°C\")\n",
        "    print(f\"  Annual temperature range: {climatology_df['Mean_Temp'].max() - climatology_df['Mean_Temp'].min():.1f}°C\")\n",
        "    \n",
        "    print(f\"\\n🎓 Key Learning Points:\")\n",
        "    print(f\"  • Monthly climatology reveals seasonal temperature patterns\")\n",
        "    print(f\"  • All models show similar seasonal cycles (summer peak, winter minimum)\")\n",
        "    print(f\"  • Small but consistent differences between models\")\n",
        "    print(f\"  • Spatial temperature gradient maintained across seasons\")\n",
        "    print(f\"  • Data ready for validation against observations\")\n",
        "    \n",
        "    print(f\"\\n📁 Generated Files:\")\n",
        "    output_files = [\n",
        "        \"monthly_climatology_all_models.xlsx\",\n",
        "        \"climatology_summary_table.xlsx\", \n",
        "        \"seasonal_temperature_summary.xlsx\",\n",
        "        f\"climatology_[MODEL].csv (6 files)\"\n",
        "    ]\n",
        "    for file in output_files:\n",
        "        print(f\"  📄 {file}\")\n",
        "    \n",
        "    print(f\"\\n➡️ Ready for Part 3: Station Data Processing\")\n",
        "else:\n",
        "    print(\"❌ Part 2 could not be completed. Please check Part 1 results.\")"
      ]
    },
    {
      "cell_type": "markdown",
      "metadata": {
        "id": "download_option"
      },
      "source": [
        "## 💾 Download Results (Optional)"
      ]
    },
    {
      "cell_type": "code",
      "execution_count": null,
      "metadata": {
        "id": "download_results"
      },
      "outputs": [],
      "source": [
        "# Optional download for participants\n",
        "print(\"📁 Part 2 Results Available for Download:\")\n",
        "print(\"✅ Monthly climatology data: monthly_climatology_all_models.xlsx\")\n",
        "print(\"✅ Summary table: climatology_summary_table.xlsx\")\n",
        "print(\"✅ Seasonal summary: seasonal_temperature_summary.xlsx\")\n",
        "\n",
        "download_choice = input(\"\\nDownload climatology results? (y/n): \")\n",
        "\n",
        "if download_choice.lower() == 'y':\n",
        "    from google.colab import files\n",
        "    \n",
        "    try:\n",
        "        # Download main files\n",
        "        files.download(f\"{OUTPUT_PATH}/monthly_climatology_all_models.xlsx\")\n",
        "        files.download(f\"{OUTPUT_PATH}/climatology_summary_table.xlsx\")\n",
        "        files.download(f\"{OUTPUT_PATH}/seasonal_temperature_summary.xlsx\")\n",
        "        \n",
        "        print(\"✅ Files downloaded successfully!\")\n",
        "    except Exception as e:\n",
        "        print(f\"❌ Download error: {e}\")\n",
        "        print(\"Files are still available in the Colab session\")\nelse:\n",
        "    print(\"📝 Files remain available in your Colab session for Parts 3 and 4\")"
      ]
    },
    {
      "cell_type": "markdown",
      "metadata": {
        "id": "next_steps"
      },
      "source": [
        "## 🚀 Next Steps\n",
        "\n",
        "**Excellent work!** You've successfully completed Part 2 of the Climate Model Validation Workshop.\n",
        "\n",
        "### What you accomplished:\n",
        "- ✅ Converted daily temperature data to monthly climatology\n",
        "- ✅ Calculated seasonal temperature patterns for all models\n",
        "- ✅ Created visualizations showing seasonal cycles\n",
        "- ✅ Generated summary tables for further analysis\n",
        "- ✅ Identified temperature ranges and model differences\n",
        "\n",
        "### Key Insights:\n",
        "- **Seasonal Patterns**: All models capture the expected seasonal cycle\n",
        "- **Model Agreement**: Generally good agreement between models\n",
        "- **Spatial Gradient**: Temperature differences between stations are consistent\n",
        "- **Data Quality**: Complete monthly climatology for validation\n",
        "\n",
        "### Ready for Part 3:\n",
        "**Part 3: Station Data Processing**\n",
        "- Load observed temperature data from weather stations\n",
        "- Calculate station climatology for the same period\n",
        "- Prepare observational data for model validation\n",
        "\n",
        "---\n",
        "📧 **Questions?** Contact the workshop instructor  \n",
        "🔗 **Repository:** https://github.com/MoawiahHussien/climate-model-validation-workshop"
      ]
    }
  ]
}
